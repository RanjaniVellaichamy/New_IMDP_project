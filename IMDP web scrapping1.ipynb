{
 "cells": [
  {
   "cell_type": "code",
   "execution_count": null,
   "metadata": {},
   "outputs": [],
   "source": [
    "!pip3 install selenium   "
   ]
  },
  {
   "cell_type": "code",
   "execution_count": null,
   "metadata": {},
   "outputs": [],
   "source": [
    "from selenium import webdriver\n",
    "from selenium.webdriver.common.by import By\n",
    "from selenium.webdriver.common.keys import Keys\n",
    "from selenium.webdriver.common.action_chains import ActionChains\n",
    "import time\n",
    "import pandas as pd\n",
    "\n",
    "driver = webdriver.Chrome()\n",
    "driver.get(\"https://www.imdb.com/search/title/?title_type=feature&release_date=2024-01-01,2024-12-31&genres=action\")\n",
    "time.sleep(3)\n",
    "def click_load_more():\n",
    "    try:\n",
    "        #locating 50 more button\n",
    "        load_more_button = driver.find_element(By.XPATH,'//*[@id=\"__next\"]/main/div[2]/div[3]/section/section/div/section/section/div[2]/div/section/div[2]/div[2]/div[2]/div/span/button/span/span')\n",
    "\n",
    "        #scrolling the load more button\n",
    "        ActionChains(driver).move_to_element(load_more_button).perform()\n",
    "        load_more_button.click()\n",
    "        time.sleep(3)\n",
    "        return True\n",
    "    except Exception as e:\n",
    "        print(\"Error Clicking in Load more\",e)\n",
    "        return False\n",
    "while click_load_more():\n",
    "    print(\"clicked Load more button\")\n",
    "print(\"no more content to load\")"
   ]
  },
  {
   "cell_type": "code",
   "execution_count": 4,
   "metadata": {},
   "outputs": [],
   "source": [
    "movie_details = driver.find_elements(By.XPATH,'//*[@id=\"__next\"]/main/div[2]/div[3]/section/section/div/section/section/div[2]/div/section/div[2]/div[2]/ul/li')"
   ]
  },
  {
   "cell_type": "code",
   "execution_count": 5,
   "metadata": {},
   "outputs": [
    {
     "data": {
      "text/plain": [
       "200"
      ]
     },
     "execution_count": 5,
     "metadata": {},
     "output_type": "execute_result"
    }
   ],
   "source": [
    "len(movie_details)"
   ]
  },
  {
   "cell_type": "code",
   "execution_count": null,
   "metadata": {},
   "outputs": [],
   "source": [
    "from selenium import webdriver\n",
    "from selenium.webdriver.common.by import By\n",
    "from selenium.webdriver.common.keys import Keys\n",
    "import time\n",
    "import pandas as pd\n",
    "\n",
    "driver = webdriver.Chrome()\n",
    "url=\"https://www.imdb.com/search/title/?title_type=feature&release_date=2024-01-01,2024-12-31&genres=action\"\n",
    "driver.get(url)\n",
    "driver.maximize_window()\n",
    "time.sleep(3)\n",
    "movie_details = driver.find_elements(By.XPATH,'//*[@id=\"__next\"]/main/div[2]/div[3]/section/section/div/section/section/div[2]/div/section/div[2]/div[2]/ul/li')\n",
    "\n",
    "#creating a empty list\n",
    "name =[]\n",
    "rating=[]\n",
    "duration=[]\n",
    "voting=[]\n",
    "#loop through all movie_details\n",
    "for movie_item in movie_details:\n",
    "    try:\n",
    "        #Extrating the movie names\n",
    "        movie_name = movie_item.find_element(By.XPATH,'./div/div/div/div[1]/div[2]/div[1]/a/h3').text\n",
    "\n",
    "        #Extracting the rating of the movie\n",
    "        movie_rating = movie_item.find_element(By.XPATH,'./div/div/div/div[1]/div[2]/span/div/span/span[1]').text\n",
    "\n",
    "        #Extraction of movie Duration\n",
    "        movie_duration = movie_item.find_element(By.XPATH,'./div/div/div/div[1]/div[2]/div[2]/span[2]').text\n",
    "                                    \n",
    "\n",
    "        #Extraction of movie voting\n",
    "        movie_voting = movie_item.find_element(By.XPATH,'./div/div/div/div[1]/div[2]/span/div/span/span[2]').text\n",
    "\n",
    "        #Append the names,rating,duration,voting into list\n",
    "        name.append(movie_name)\n",
    "        rating.append(movie_rating)\n",
    "        duration.append(movie_duration)\n",
    "        voting.append(movie_voting)\n",
    "    except Exception as e:\n",
    "        #if any element is not present in movie means print the error message\n",
    "        print(f\"Error in extrating the data in movie: {e}\")\n",
    "        continue\n",
    "dfa = pd.DataFrame({\n",
    "        'moviename':name,\n",
    "        'movierating':rating,\n",
    "        'movieduration':duration,\n",
    "        'movievoting':voting\n",
    "    })\n",
    "\n",
    "driver.quit()\n",
    "dfa\n",
    "#df.to_csv('Action_csv',Index=False)\n"
   ]
  },
  {
   "cell_type": "code",
   "execution_count": 79,
   "metadata": {},
   "outputs": [],
   "source": [
    "dfa.to_csv('Action.csv',index=False)"
   ]
  },
  {
   "cell_type": "code",
   "execution_count": null,
   "metadata": {},
   "outputs": [],
   "source": [
    "dfa"
   ]
  },
  {
   "cell_type": "markdown",
   "metadata": {},
   "source": [
    "genre = Comedy"
   ]
  },
  {
   "cell_type": "code",
   "execution_count": null,
   "metadata": {},
   "outputs": [],
   "source": [
    "from selenium import webdriver\n",
    "from selenium.webdriver.common.by import By\n",
    "from selenium.webdriver.common.keys import Keys\n",
    "from selenium.webdriver.common.action_chains import ActionChains\n",
    "import time\n",
    "import pandas as pd\n",
    "\n",
    "driver = webdriver.Chrome()\n",
    "driver.get(\"https://www.imdb.com/search/title/?title_type=feature&release_date=2024-01-01,2024-12-31&genres=comedy\")\n",
    "time.sleep(3)\n",
    "def click_load_more():\n",
    "    try:\n",
    "        #locating 50 more button\n",
    "        load_more_button = driver.find_element(By.XPATH,'//*[@id=\"__next\"]/main/div[2]/div[3]/section/section/div/section/section/div[2]/div/section/div[2]/div[2]/div[2]/div/span/button/span/span')\n",
    "\n",
    "        #scrolling the load more button\n",
    "        ActionChains(driver).move_to_element(load_more_button).perform()\n",
    "        load_more_button.click()\n",
    "        time.sleep(3)\n",
    "        return True\n",
    "    except Exception as e:\n",
    "        print(\"Error Clicking in Load more\",e)\n",
    "        return False\n",
    "while click_load_more():\n",
    "    print(\"clicked Load more button\")\n",
    "print(\"no more content to load\")"
   ]
  },
  {
   "cell_type": "code",
   "execution_count": null,
   "metadata": {},
   "outputs": [],
   "source": [
    "from selenium import webdriver\n",
    "from selenium.webdriver.common.by import By\n",
    "from selenium.webdriver.common.keys import Keys\n",
    "import time\n",
    "import pandas as pd\n",
    "\n",
    "#driver = webdriver.Chrome()\n",
    "#url=\"https://www.imdb.com/search/title/?title_type=feature&release_date=2024-01-01,2024-12-31&genres=comedy\"\n",
    "#driver.get(url)\n",
    "#driver.maximize_window()\n",
    "# time.sleep(3)\n",
    "movie_details = driver.find_elements(By.XPATH,'//*[@id=\"__next\"]/main/div[2]/div[3]/section/section/div/section/section/div[2]/div/section/div[2]/div[2]/ul/li')\n",
    "\n",
    "#creating a empty list\n",
    "name =[]\n",
    "rating=[]\n",
    "duration=[]\n",
    "voting=[]\n",
    "#loop through all movie_details\n",
    "for movie_item in movie_details:\n",
    "    try:\n",
    "        #Extrating the movie names\n",
    "        movie_name = movie_item.find_element(By.XPATH,'./div/div/div/div[1]/div[2]/div[1]/a/h3').text\n",
    "\n",
    "        #Extracting the rating of the movie\n",
    "        movie_rating = movie_item.find_element(By.XPATH,'./div/div/div/div[1]/div[2]/span/div/span/span[1]').text\n",
    "\n",
    "        #Extraction of movie Duration\n",
    "        movie_duration = movie_item.find_element(By.XPATH,'./div/div/div/div[1]/div[2]/div[2]/span[2]').text\n",
    "                                    \n",
    "\n",
    "        #Extraction of movie voting\n",
    "        movie_voting = movie_item.find_element(By.XPATH,'./div/div/div/div[1]/div[2]/span/div/span/span[2]').text\n",
    "\n",
    "        #Append the names,rating,duration,voting into list\n",
    "        name.append(movie_name)\n",
    "        rating.append(movie_rating)\n",
    "        duration.append(movie_duration)\n",
    "        voting.append(movie_voting)\n",
    "    except Exception as e:\n",
    "        #if any element is not present in movie means print the error message\n",
    "        print(f\"Error in extrating the data in movie: {e}\")\n",
    "        continue\n",
    "dfc = pd.DataFrame({\n",
    "        'moviename':name,\n",
    "        'movierating':rating,\n",
    "        'movieduration':duration,\n",
    "        'movievoting':voting\n",
    "    })\n",
    "\n",
    "driver.quit()\n",
    "dfc\n"
   ]
  },
  {
   "cell_type": "code",
   "execution_count": 48,
   "metadata": {},
   "outputs": [],
   "source": [
    "dfc.to_csv('Comdey.csv',index=False)"
   ]
  },
  {
   "cell_type": "code",
   "execution_count": null,
   "metadata": {},
   "outputs": [],
   "source": [
    "dfc"
   ]
  },
  {
   "cell_type": "markdown",
   "metadata": {},
   "source": [
    "GENRE - SPORT"
   ]
  },
  {
   "cell_type": "code",
   "execution_count": null,
   "metadata": {},
   "outputs": [],
   "source": [
    "from selenium import webdriver\n",
    "from selenium.webdriver.common.by import By\n",
    "from selenium.webdriver.common.keys import Keys\n",
    "from selenium.webdriver.common.action_chains import ActionChains\n",
    "import time\n",
    "import pandas as pd\n",
    "\n",
    "driver = webdriver.Chrome()\n",
    "driver.get(\"https://www.imdb.com/search/title/?title_type=feature&release_date=2024-01-01,2024-12-31&genres=sport\")\n",
    "time.sleep(3)\n",
    "def click_load_more():\n",
    "    try:\n",
    "        #locating 50 more button\n",
    "        load_more_button = driver.find_element(By.XPATH,'//*[@id=\"__next\"]/main/div[2]/div[3]/section/section/div/section/section/div[2]/div/section/div[2]/div[2]/div[2]/div/span/button/span/span')\n",
    "\n",
    "        #scrolling the load more button\n",
    "        ActionChains(driver).move_to_element(load_more_button).perform()\n",
    "        load_more_button.click()\n",
    "        time.sleep(3)\n",
    "        return True\n",
    "    except Exception as e:\n",
    "        print(\"Error Clicking in Load more\",e)\n",
    "        return False\n",
    "while click_load_more():\n",
    "    print(\"clicked Load more button\")\n",
    "print(\"no more content to load\")"
   ]
  },
  {
   "cell_type": "code",
   "execution_count": null,
   "metadata": {},
   "outputs": [],
   "source": [
    "from selenium import webdriver\n",
    "from selenium.webdriver.common.by import By\n",
    "from selenium.webdriver.common.keys import Keys\n",
    "import time\n",
    "import pandas as pd\n",
    "\n",
    "#driver = webdriver.Chrome()\n",
    "#url=\"https://www.imdb.com/search/title/?title_type=feature&release_date=2024-01-01,2024-12-31&genres=sport\"\n",
    "#driver.get(url)\n",
    "#driver.maximize_window()\n",
    "#time.sleep(3)\n",
    "movie_details = driver.find_elements(By.XPATH,'//*[@id=\"__next\"]/main/div[2]/div[3]/section/section/div/section/section/div[2]/div/section/div[2]/div[2]/ul/li')\n",
    "\n",
    "#creating a empty list\n",
    "name =[]\n",
    "rating=[]\n",
    "duration=[]\n",
    "voting=[]\n",
    "#loop through all movie_details\n",
    "for movie_item in movie_details:\n",
    "    try:\n",
    "        #Extrating the movie names\n",
    "        movie_name = movie_item.find_element(By.XPATH,'./div/div/div/div[1]/div[2]/div[1]/a/h3').text\n",
    "\n",
    "        #Extracting the rating of the movie\n",
    "        movie_rating = movie_item.find_element(By.XPATH,'./div/div/div/div[1]/div[2]/span/div/span/span[1]').text\n",
    "\n",
    "        #Extraction of movie Duration\n",
    "        movie_duration = movie_item.find_element(By.XPATH,'./div/div/div/div[1]/div[2]/div[2]/span[2]').text\n",
    "                                    \n",
    "\n",
    "        #Extraction of movie voting\n",
    "        movie_voting = movie_item.find_element(By.XPATH,'./div/div/div/div[1]/div[2]/span/div/span/span[2]').text\n",
    "\n",
    "        #Append the names,rating,duration,voting into list\n",
    "        name.append(movie_name)\n",
    "        rating.append(movie_rating)\n",
    "        duration.append(movie_duration)\n",
    "        voting.append(movie_voting)\n",
    "    except Exception as e:\n",
    "        #if any element is not present in movie means print the error message\n",
    "        print(f\"Error in extrating the data in movie: {e}\")\n",
    "        continue\n",
    "dfs = pd.DataFrame({\n",
    "        'moviename':name,\n",
    "        'movierating':rating,\n",
    "        'movieduration':duration,\n",
    "        'movievoting':voting\n",
    "    })\n",
    "\n",
    "driver.quit()\n",
    "dfs\n"
   ]
  },
  {
   "cell_type": "code",
   "execution_count": null,
   "metadata": {},
   "outputs": [],
   "source": [
    "dfs.to_csv('Sport.csv',index=False)\n",
    "dfs"
   ]
  },
  {
   "cell_type": "markdown",
   "metadata": {},
   "source": [
    "GENRE - HORROR"
   ]
  },
  {
   "cell_type": "code",
   "execution_count": null,
   "metadata": {},
   "outputs": [],
   "source": [
    "from selenium import webdriver\n",
    "from selenium.webdriver.common.by import By\n",
    "from selenium.webdriver.common.keys import Keys\n",
    "from selenium.webdriver.common.action_chains import ActionChains\n",
    "import time\n",
    "import pandas as pd\n",
    "\n",
    "driver = webdriver.Chrome()\n",
    "driver.get(\"https://www.imdb.com/search/title/?title_type=feature&release_date=2024-01-01,2024-12-31&genres=horror\")\n",
    "time.sleep(3)\n",
    "def click_load_more():\n",
    "    try:\n",
    "        #locating 50 more button\n",
    "        load_more_button = driver.find_element(By.XPATH,'//*[@id=\"__next\"]/main/div[2]/div[3]/section/section/div/section/section/div[2]/div/section/div[2]/div[2]/div[2]/div/span/button/span/span')\n",
    "\n",
    "        #scrolling the load more button\n",
    "        ActionChains(driver).move_to_element(load_more_button).perform()\n",
    "        load_more_button.click()\n",
    "        time.sleep(3)\n",
    "        return True\n",
    "    except Exception as e:\n",
    "        print(\"Error Clicking in Load more\",e)\n",
    "        return False\n",
    "while click_load_more():\n",
    "    print(\"clicked Load more button\")\n",
    "print(\"no more content to load\")"
   ]
  },
  {
   "cell_type": "code",
   "execution_count": null,
   "metadata": {},
   "outputs": [],
   "source": [
    "from selenium import webdriver\n",
    "from selenium.webdriver.common.by import By\n",
    "from selenium.webdriver.common.keys import Keys\n",
    "import time\n",
    "import pandas as pd\n",
    "\n",
    "#driver = webdriver.Chrome()\n",
    "#url=\"https://www.imdb.com/search/title/?title_type=feature&release_date=2024-01-01,2024-12-31&genres=horror\"\n",
    "#driver.get(url)\n",
    "#driver.maximize_window()\n",
    "#time.sleep(3)\n",
    "movie_details = driver.find_elements(By.XPATH,'//*[@id=\"__next\"]/main/div[2]/div[3]/section/section/div/section/section/div[2]/div/section/div[2]/div[2]/ul/li')\n",
    "\n",
    "#creating a empty list\n",
    "name =[]\n",
    "rating=[]\n",
    "duration=[]\n",
    "voting=[]\n",
    "#loop through all movie_details\n",
    "for movie_item in movie_details:\n",
    "    try:\n",
    "        #Extrating the movie names\n",
    "        movie_name = movie_item.find_element(By.XPATH,'./div/div/div/div[1]/div[2]/div[1]/a/h3').text\n",
    "\n",
    "        #Extracting the rating of the movie\n",
    "        movie_rating = movie_item.find_element(By.XPATH,'./div/div/div/div[1]/div[2]/span/div/span/span[1]').text\n",
    "\n",
    "        #Extraction of movie Duration\n",
    "        movie_duration = movie_item.find_element(By.XPATH,'./div/div/div/div[1]/div[2]/div[2]/span[2]').text\n",
    "                                    \n",
    "\n",
    "        #Extraction of movie voting\n",
    "        movie_voting = movie_item.find_element(By.XPATH,'./div/div/div/div[1]/div[2]/span/div/span/span[2]').text\n",
    "\n",
    "        #Append the names,rating,duration,voting into list\n",
    "        name.append(movie_name)\n",
    "        rating.append(movie_rating)\n",
    "        duration.append(movie_duration)\n",
    "        voting.append(movie_voting)\n",
    "    except Exception as e:\n",
    "        #if any element is not present in movie means print the error message\n",
    "        print(f\"Error in extrating the data in movie: {e}\")\n",
    "        continue\n",
    "dfh = pd.DataFrame({\n",
    "        'moviename':name,\n",
    "        'movierating':rating,\n",
    "        'movieduration':duration,\n",
    "        'movievoting':voting\n",
    "    })\n",
    "\n",
    "driver.quit()\n",
    "dfh\n"
   ]
  },
  {
   "cell_type": "code",
   "execution_count": null,
   "metadata": {},
   "outputs": [],
   "source": [
    "dfh.to_csv('Horror.csv',index=False)\n",
    "dfh"
   ]
  },
  {
   "cell_type": "markdown",
   "metadata": {},
   "source": [
    "GENRE - CRIME"
   ]
  },
  {
   "cell_type": "code",
   "execution_count": null,
   "metadata": {},
   "outputs": [],
   "source": [
    "from selenium import webdriver\n",
    "from selenium.webdriver.common.by import By\n",
    "from selenium.webdriver.common.keys import Keys\n",
    "from selenium.webdriver.common.action_chains import ActionChains\n",
    "import time\n",
    "import pandas as pd\n",
    "\n",
    "driver = webdriver.Chrome()\n",
    "driver.get(\"https://www.imdb.com/search/title/?title_type=feature&release_date=2024-01-01,2024-12-31&genres=crime\")\n",
    "time.sleep(3)\n",
    "def click_load_more():\n",
    "    try:\n",
    "        #locating 50 more button\n",
    "        load_more_button = driver.find_element(By.XPATH,'//*[@id=\"__next\"]/main/div[2]/div[3]/section/section/div/section/section/div[2]/div/section/div[2]/div[2]/div[2]/div/span/button/span/span')\n",
    "\n",
    "        #scrolling the load more button\n",
    "        ActionChains(driver).move_to_element(load_more_button).perform()\n",
    "        load_more_button.click()\n",
    "        time.sleep(3)\n",
    "        return True\n",
    "    except Exception as e:\n",
    "        print(\"Error Clicking in Load more\",e)\n",
    "        return False\n",
    "while click_load_more():\n",
    "    print(\"clicked Load more button\")\n",
    "print(\"no more content to load\")"
   ]
  },
  {
   "cell_type": "code",
   "execution_count": null,
   "metadata": {},
   "outputs": [],
   "source": [
    "from selenium import webdriver\n",
    "from selenium.webdriver.common.by import By\n",
    "from selenium.webdriver.common.keys import Keys\n",
    "import time\n",
    "import pandas as pd\n",
    "\n",
    "#driver = webdriver.Chrome()\n",
    "#url=\"https://www.imdb.com/search/title/?title_type=feature&release_date=2024-01-01,2024-12-31&genres=crime\"\n",
    "#driver.get(url)\n",
    "#driver.maximize_window()\n",
    "#time.sleep(3)\n",
    "movie_details = driver.find_elements(By.XPATH,'//*[@id=\"__next\"]/main/div[2]/div[3]/section/section/div/section/section/div[2]/div/section/div[2]/div[2]/ul/li')\n",
    "\n",
    "#creating a empty list\n",
    "name =[]\n",
    "rating=[]\n",
    "duration=[]\n",
    "voting=[]\n",
    "#loop through all movie_details\n",
    "for movie_item in movie_details:\n",
    "    try:\n",
    "        #Extrating the movie names\n",
    "        movie_name = movie_item.find_element(By.XPATH,'./div/div/div/div[1]/div[2]/div[1]/a/h3').text\n",
    "\n",
    "        #Extracting the rating of the movie\n",
    "        movie_rating = movie_item.find_element(By.XPATH,'./div/div/div/div[1]/div[2]/span/div/span/span[1]').text\n",
    "\n",
    "        #Extraction of movie Duration\n",
    "        movie_duration = movie_item.find_element(By.XPATH,'./div/div/div/div[1]/div[2]/div[2]/span[2]').text\n",
    "                                    \n",
    "\n",
    "        #Extraction of movie voting\n",
    "        movie_voting = movie_item.find_element(By.XPATH,'./div/div/div/div[1]/div[2]/span/div/span/span[2]').text\n",
    "\n",
    "        #Append the names,rating,duration,voting into list\n",
    "        name.append(movie_name)\n",
    "        rating.append(movie_rating)\n",
    "        duration.append(movie_duration)\n",
    "        voting.append(movie_voting)\n",
    "    except Exception as e:\n",
    "        #if any element is not present in movie means print the error message\n",
    "        print(f\"Error in extrating the data in movie: {e}\")\n",
    "        continue\n",
    "dfcr = pd.DataFrame({\n",
    "        'moviename':name,\n",
    "        'movierating':rating,\n",
    "        'movieduration':duration,\n",
    "        'movievoting':voting\n",
    "    })\n",
    "\n",
    "driver.quit()\n",
    "dfcr"
   ]
  },
  {
   "cell_type": "code",
   "execution_count": null,
   "metadata": {},
   "outputs": [],
   "source": [
    "dfcr.to_csv('Crime.csv')\n",
    "dfcr"
   ]
  },
  {
   "cell_type": "markdown",
   "metadata": {},
   "source": [
    "NextStep - Merge all CSV"
   ]
  },
  {
   "cell_type": "code",
   "execution_count": 82,
   "metadata": {},
   "outputs": [],
   "source": [
    "import pandas as pd\n",
    "import _csv\n",
    "files = ['Comdey.csv','Horror.csv','Sport.csv','Crime.csv','Action.csv']\n",
    "dfm = pd.DataFrame()\n",
    "for file in files:\n",
    "    data = pd.read_csv(file)\n",
    "    dfm = pd.concat([dfm, data])\n",
    "dfm.to_csv('Merged_files.csv', index=False)"
   ]
  },
  {
   "cell_type": "code",
   "execution_count": null,
   "metadata": {},
   "outputs": [],
   "source": [
    "dfm"
   ]
  },
  {
   "cell_type": "markdown",
   "metadata": {},
   "source": [
    "Changing movie duration into minutes"
   ]
  },
  {
   "cell_type": "code",
   "execution_count": 105,
   "metadata": {},
   "outputs": [
    {
     "data": {
      "text/plain": [
       "\"mport pandas as pd\\nfrom csv import reader\\nfrom isodate import parse_duration\\n\\ndfmins = pd.read_csv('Merged_files.csv')\\n\\n# Convert entire 'movieduration' to timedelta type..\\ndfmins ['movieduration'] = pd.to_timedelta(dfmins['movieduration'])\\n\\n# Convert 'movieduration' to minutes only.\\ndfmins ['movieDurationAsMinutes'] = dfmins['movieduration'].dt.total_seconds() / 60 \\n\\n# Drop the old table.\\ndfmins .drop('movieduration', axis = 1, inplace = True)\\n\\ndfmins .to_csv('DurationChanged.csv', index = False)\""
      ]
     },
     "execution_count": 105,
     "metadata": {},
     "output_type": "execute_result"
    }
   ],
   "source": [
    "import pandas as pd\n",
    "dfmin=pd.read_csv('merged_files.csv')\n",
    "def convert_to_mins(movieduration):\n",
    "    parts=movieduration.split()\n",
    "    hour=0\n",
    "    minutes=0\n",
    "    for part in parts:\n",
    "        if 'h' in part:\n",
    "            hour=int(part.replace('h',''))\n",
    "        elif 'm' in part:\n",
    "            minutes=int(part.replace('m',''))\n",
    "    return hour*60+minutes\n",
    "dfmin['durationtomins']=dfmin['movieduration'].apply(convert_to_mins)\n",
    "dfmin.drop('movieduration', axis = 1, inplace = True)\n",
    "dfmin.drop('Unnamed: 0',axis=1,inplace=True)\n",
    "dfmin.to_csv('ChangedtoMinutes.csv',index=False)"
   ]
  },
  {
   "cell_type": "code",
   "execution_count": null,
   "metadata": {},
   "outputs": [],
   "source": [
    "dfmin"
   ]
  },
  {
   "cell_type": "markdown",
   "metadata": {},
   "source": [
    "changing voting count into integer"
   ]
  },
  {
   "cell_type": "code",
   "execution_count": 107,
   "metadata": {},
   "outputs": [],
   "source": [
    "import pandas as pd\n",
    "from csv import reader\n",
    "df = pd.read_csv('ChangedtoMinutes.csv')\n",
    "df['movievoting'] = df['movievoting'].str.replace('(','').str.replace(')','').str.replace('K','').astype(float)*1000\n",
    "df['movievoting'] = df['movievoting'].astype(int)\n",
    "df.to_csv('Updatedfile.csv',index=False)"
   ]
  },
  {
   "cell_type": "code",
   "execution_count": null,
   "metadata": {},
   "outputs": [],
   "source": [
    "df"
   ]
  },
  {
   "cell_type": "markdown",
   "metadata": {},
   "source": [
    "converting movie from hour to minutes"
   ]
  },
  {
   "cell_type": "code",
   "execution_count": null,
   "metadata": {},
   "outputs": [],
   "source": [
    "import pandas as pd\n",
    "dfmin=pd.read_csv('Horror.csv')\n",
    "def convert_to_mins(movieduration):\n",
    "    parts=movieduration.split()\n",
    "    hour=0\n",
    "    minutes=0\n",
    "    for part in parts:\n",
    "        if 'h' in part:\n",
    "            hour=int(part.replace('h',''))\n",
    "        elif 'm' in part:\n",
    "            minutes=int(part.replace('m',''))\n",
    "    return hour*60+minutes\n",
    "dfmin['durationtomins']=dfmin['movieduration'].apply(convert_to_mins)\n",
    "dfmin.drop('movieduration', axis = 1, inplace = True)\n",
    "#dfmin.drop('Unnamed: 0',axis=1,inplace=True)\n",
    "dfmin.to_csv('horror.csv',index=False)"
   ]
  },
  {
   "cell_type": "code",
   "execution_count": null,
   "metadata": {},
   "outputs": [],
   "source": [
    "dfmin"
   ]
  },
  {
   "cell_type": "code",
   "execution_count": null,
   "metadata": {},
   "outputs": [],
   "source": [
    "import pandas as pd\n",
    "dfmin=pd.read_csv('Comdey.csv')\n",
    "def convert_to_mins(movieduration):\n",
    "    parts=movieduration.split()\n",
    "    hour=0\n",
    "    minutes=0\n",
    "    for part in parts:\n",
    "        if 'h' in part:\n",
    "            hour=int(part.replace('h',''))\n",
    "        elif 'm' in part:\n",
    "            minutes=int(part.replace('m',''))\n",
    "    return hour*60+minutes\n",
    "dfmin['durationtomins']=dfmin['movieduration'].apply(convert_to_mins)\n",
    "dfmin.drop('movieduration', axis = 1, inplace = True)\n",
    "#dfmin.drop('Unnamed: 0',axis=1,inplace=True)\n",
    "dfmin.to_csv('comedy.csv',index=False)\n",
    "dfmin"
   ]
  },
  {
   "cell_type": "code",
   "execution_count": null,
   "metadata": {},
   "outputs": [],
   "source": [
    "import pandas as pd\n",
    "dfmin=pd.read_csv('Action.csv')\n",
    "def convert_to_mins(movieduration):\n",
    "    parts=movieduration.split()\n",
    "    hour=0\n",
    "    minutes=0\n",
    "    for part in parts:\n",
    "        if 'h' in part:\n",
    "            hour=int(part.replace('h',''))\n",
    "        elif 'm' in part:\n",
    "            minutes=int(part.replace('m',''))\n",
    "    return hour*60+minutes\n",
    "dfmin['durationtomins']=dfmin['movieduration'].apply(convert_to_mins)\n",
    "dfmin.drop('movieduration', axis = 1, inplace = True)\n",
    "#dfmin.drop('Unnamed: 0',axis=1,inplace=True)\n",
    "dfmin.to_csv('action.csv',index=False)\n",
    "dfmin"
   ]
  },
  {
   "cell_type": "code",
   "execution_count": null,
   "metadata": {},
   "outputs": [],
   "source": [
    "import pandas as pd\n",
    "dfmin=pd.read_csv('Sport.csv')\n",
    "def convert_to_mins(movieduration):\n",
    "    parts=movieduration.split()\n",
    "    hour=0\n",
    "    minutes=0\n",
    "    for part in parts:\n",
    "        if 'h' in part:\n",
    "            hour=int(part.replace('h',''))\n",
    "        elif 'm' in part:\n",
    "            minutes=int(part.replace('m',''))\n",
    "    return hour*60+minutes\n",
    "dfmin['durationtomins']=dfmin['movieduration'].apply(convert_to_mins)\n",
    "dfmin.drop('movieduration', axis = 1, inplace = True)\n",
    "#dfmin.drop('Unnamed: 0',axis=1,inplace=True)\n",
    "dfmin.to_csv('sport.csv',index=False)\n",
    "dfmin"
   ]
  },
  {
   "cell_type": "code",
   "execution_count": null,
   "metadata": {},
   "outputs": [],
   "source": [
    "import pandas as pd\n",
    "dfmin=pd.read_csv('Crime.csv')\n",
    "def convert_to_mins(movieduration):\n",
    "    parts=movieduration.split()\n",
    "    hour=0\n",
    "    minutes=0\n",
    "    for part in parts:\n",
    "        if 'h' in part:\n",
    "            hour=int(part.replace('h',''))\n",
    "        elif 'm' in part:\n",
    "            minutes=int(part.replace('m',''))\n",
    "    return hour*60+minutes\n",
    "dfmin['durationtomins']=dfmin['movieduration'].apply(convert_to_mins)\n",
    "dfmin.drop('movieduration', axis = 1, inplace = True)\n",
    "#dfmin.drop('Unnamed: 0',axis=1,inplace=True)\n",
    "dfmin.to_csv('crime.csv',index=False)"
   ]
  },
  {
   "cell_type": "code",
   "execution_count": null,
   "metadata": {},
   "outputs": [],
   "source": [
    "dfmin"
   ]
  },
  {
   "cell_type": "code",
   "execution_count": 14,
   "metadata": {},
   "outputs": [],
   "source": [
    "import pandas as pd\n",
    "from csv import reader\n",
    "df = pd.read_csv('Action.csv')\n",
    "df['movievoting'] = df['movievoting'].str.replace('(','').str.replace(')','').str.replace('K','').astype(float)*1000\n",
    "df['movievoting'] = df['movievoting'].astype(int)\n",
    "df.to_csv('1Action.csv',index=False)"
   ]
  },
  {
   "cell_type": "code",
   "execution_count": 15,
   "metadata": {},
   "outputs": [],
   "source": [
    "import pandas as pd\n",
    "from csv import reader\n",
    "df = pd.read_csv('comedy.csv')\n",
    "df['movievoting'] = df['movievoting'].str.replace('(','').str.replace(')','').str.replace('K','').astype(float)*1000\n",
    "df['movievoting'] = df['movievoting'].astype(int)\n",
    "df.to_csv('2comedy.csv',index=False)"
   ]
  },
  {
   "cell_type": "code",
   "execution_count": 16,
   "metadata": {},
   "outputs": [],
   "source": [
    "import pandas as pd\n",
    "from csv import reader\n",
    "df = pd.read_csv('Crime.csv')\n",
    "df['movievoting'] = df['movievoting'].str.replace('(','').str.replace(')','').str.replace('K','').astype(float)*1000\n",
    "df['movievoting'] = df['movievoting'].astype(int)\n",
    "df.to_csv('3crime.csv',index=False)"
   ]
  },
  {
   "cell_type": "code",
   "execution_count": 17,
   "metadata": {},
   "outputs": [],
   "source": [
    "import pandas as pd\n",
    "from csv import reader\n",
    "df = pd.read_csv('Horror.csv')\n",
    "df['movievoting'] = df['movievoting'].str.replace('(','').str.replace(')','').str.replace('K','').astype(float)*1000\n",
    "df['movievoting'] = df['movievoting'].astype(int)\n",
    "df.to_csv('4Horror.csv',index=False)"
   ]
  },
  {
   "cell_type": "code",
   "execution_count": 18,
   "metadata": {},
   "outputs": [],
   "source": [
    "import pandas as pd\n",
    "from csv import reader\n",
    "df = pd.read_csv('Sport.csv')\n",
    "df['movievoting'] = df['movievoting'].str.replace('(','').str.replace(')','').str.replace('K','').astype(float)*1000\n",
    "df['movievoting'] = df['movievoting'].astype(int)\n",
    "df.to_csv('5Sport.csv',index=False)"
   ]
  }
 ],
 "metadata": {
  "kernelspec": {
   "display_name": "Python 3",
   "language": "python",
   "name": "python3"
  },
  "language_info": {
   "codemirror_mode": {
    "name": "ipython",
    "version": 3
   },
   "file_extension": ".py",
   "mimetype": "text/x-python",
   "name": "python",
   "nbconvert_exporter": "python",
   "pygments_lexer": "ipython3",
   "version": "3.12.8"
  }
 },
 "nbformat": 4,
 "nbformat_minor": 2
}
